{
 "cells": [
  {
   "cell_type": "code",
   "execution_count": 1,
   "id": "f1790bcc",
   "metadata": {},
   "outputs": [
    {
     "data": {
      "text/plain": [
       "\u001b[33m664579\u001b[39m"
      ]
     },
     "execution_count": 1,
     "metadata": {},
     "output_type": "execute_result"
    }
   ],
   "source": [
    "var getPrimes = function(limit){\n",
    "\n",
    "    var primes = [];\n",
    "    var primeArray = Array(limit).fill(true);\n",
    "    \n",
    "    for( var p = 2; p < Math.sqrt(limit); p++){\n",
    "        if( primeArray[p] ) {\n",
    "            for(var m = p*p; m < limit; m += 2 * p)\n",
    "                primeArray[m] = false;\n",
    "        }\n",
    "    }\n",
    "\n",
    "    primes.push(2);\n",
    "    for(var j = 3; j < limit; j += 2 ){\n",
    "        if (primeArray[j])\n",
    "            primes.push(j);\n",
    "    } \n",
    "    \n",
    "    return primes\n",
    "}\n",
    "\n",
    "var primes = getPrimes(10 ** 7);\n",
    "primes.length;"
   ]
  },
  {
   "cell_type": "code",
   "execution_count": 2,
   "id": "12737416",
   "metadata": {},
   "outputs": [
    {
     "data": {
      "text/plain": [
       "\u001b[33m233168\u001b[39m"
      ]
     },
     "execution_count": 2,
     "metadata": {},
     "output_type": "execute_result"
    }
   ],
   "source": [
    "var e1 = function(limit){\n",
    "    var f = (n) => ( n % 3 == 0 || n % 5 == 0) \n",
    "    return Array(limit - 1).fill().map((val, idx) => idx + 1 ).filter(f).reduce((a,b) => a+b, 0 );\n",
    "};\n",
    "\n",
    "\n",
    "e1(1000);"
   ]
  },
  {
   "cell_type": "code",
   "execution_count": 3,
   "id": "496ee1ac",
   "metadata": {},
   "outputs": [
    {
     "data": {
      "text/plain": [
       "\u001b[33m4613732\u001b[39m"
      ]
     },
     "execution_count": 3,
     "metadata": {},
     "output_type": "execute_result"
    }
   ],
   "source": [
    "\n",
    "var e2 = function( limit ){\n",
    "    var f = (n) => ( n % 2 == 0 );\n",
    "    var fibo = [1, 2];\n",
    "    while( fibo.slice(-1)[0] < limit ){\n",
    "        fibo.push( fibo.slice(-1)[0] + fibo.slice(-2)[0] );\n",
    "    } \n",
    "    return fibo.filter(f).reduce((a,b) => a+b, 0);\n",
    "};\n",
    "\n",
    "e2(4 * 10 ** 6);"
   ]
  },
  {
   "cell_type": "code",
   "execution_count": 4,
   "id": "112c5a1f",
   "metadata": {},
   "outputs": [
    {
     "data": {
      "text/plain": [
       "\u001b[33m232792560\u001b[39m"
      ]
     },
     "execution_count": 4,
     "metadata": {},
     "output_type": "execute_result"
    }
   ],
   "source": [
    "var e5 = function(limit){\n",
    "    \n",
    "    var f = (n) => ( n <= limit  );\n",
    "    var littlePrimes = primes.filter(f);\n",
    "    \n",
    "    var g = function(p){\n",
    "        var primePower = p;\n",
    "        while( primePower * p < limit )\n",
    "            primePower *= p;\n",
    "        return primePower;\n",
    "    }\n",
    "    \n",
    "    return littlePrimes.map(g).reduce((a,b) => a*b, 1);\n",
    "};\n",
    "\n",
    "e5(20);"
   ]
  },
  {
   "cell_type": "code",
   "execution_count": 8,
   "id": "3da7cd66",
   "metadata": {},
   "outputs": [
    {
     "data": {
      "text/plain": [
       "\u001b[33m25164150\u001b[39m"
      ]
     },
     "execution_count": 8,
     "metadata": {},
     "output_type": "execute_result"
    }
   ],
   "source": [
    "var e6 = function(limit){\n",
    "    var arr = Array(limit).fill().map((val, idx) => idx + 1 );\n",
    "    return arr.reduce( (a,b) => a+b ) ** 2 - arr.map( (n) => n ** 2 ).reduce( (a,b) => a+b );\n",
    "};\n",
    "\n",
    "e6(100);"
   ]
  },
  {
   "cell_type": "code",
   "execution_count": 6,
   "id": "8860fdb3",
   "metadata": {},
   "outputs": [
    {
     "data": {
      "text/plain": [
       "\u001b[33m104743\u001b[39m"
      ]
     },
     "execution_count": 6,
     "metadata": {},
     "output_type": "execute_result"
    }
   ],
   "source": [
    "var e7 = function(limit){\n",
    "    return primes[limit];\n",
    "};\n",
    "\n",
    "e7(10 ** 4);"
   ]
  },
  {
   "cell_type": "code",
   "execution_count": 9,
   "id": "dfb9c69c",
   "metadata": {},
   "outputs": [
    {
     "data": {
      "text/plain": [
       "\u001b[33m142913828922\u001b[39m"
      ]
     },
     "execution_count": 9,
     "metadata": {},
     "output_type": "execute_result"
    }
   ],
   "source": [
    "var e10 = function(limit){\n",
    "    var f = (n) => ( n <= limit  );\n",
    "    var arr = primes.filter(f);\n",
    "    return arr.reduce( (a,b) => a+b ) \n",
    "};\n",
    "\n",
    "e10(2 * 10 ** 6 );"
   ]
  },
  {
   "cell_type": "code",
   "execution_count": 10,
   "id": "243ca75b",
   "metadata": {},
   "outputs": [
    {
     "data": {
      "text/plain": [
       "\u001b[33m1.0715086071862672e+301\u001b[39m"
      ]
     },
     "execution_count": 10,
     "metadata": {},
     "output_type": "execute_result"
    }
   ],
   "source": [
    "var e16 = function(limit){\n",
    "    return 2 ** limit;\n",
    "}\n",
    "\n",
    "e16(1000);"
   ]
  },
  {
   "cell_type": "code",
   "execution_count": 14,
   "id": "72060b0c",
   "metadata": {},
   "outputs": [
    {
     "data": {
      "text/plain": [
       "\u001b[33m9183\u001b[39m"
      ]
     },
     "execution_count": 14,
     "metadata": {},
     "output_type": "execute_result"
    }
   ],
   "source": [
    "var e29 = function(limit){\n",
    "    var S = new Set();\n",
    "    for( var a = 2; a <= limit; a++ ){\n",
    "        for( var b = 2; b <= limit; b++ ){\n",
    "            S.add(a ** b)\n",
    "        }\n",
    "    }\n",
    "    return S.size;\n",
    "};\n",
    "\n",
    "e29(100);\n"
   ]
  },
  {
   "cell_type": "code",
   "execution_count": null,
   "id": "e2320c2a",
   "metadata": {},
   "outputs": [],
   "source": []
  }
 ],
 "metadata": {
  "kernelspec": {
   "display_name": "Deno",
   "language": "typescript",
   "name": "deno"
  },
  "language_info": {
   "file_extension": ".ts",
   "mimetype": "text/x.typescript",
   "name": "typescript",
   "nb_converter": "script",
   "pygments_lexer": "typescript",
   "version": "5.3.3"
  }
 },
 "nbformat": 4,
 "nbformat_minor": 5
}

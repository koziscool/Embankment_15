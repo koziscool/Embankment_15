{
 "cells": [
  {
   "cell_type": "code",
   "execution_count": 1,
   "id": "f59c8880",
   "metadata": {},
   "outputs": [
    {
     "name": "stdout",
     "output_type": "stream",
     "text": [
      "tetris\n"
     ]
    }
   ],
   "source": [
    "console.log(\"tetris\");"
   ]
  },
  {
   "cell_type": "code",
   "execution_count": 10,
   "id": "aa5aae71",
   "metadata": {},
   "outputs": [
    {
     "data": {
      "text/plain": [
       "\u001b[33m233168\u001b[39m"
      ]
     },
     "execution_count": 10,
     "metadata": {},
     "output_type": "execute_result"
    }
   ],
   "source": [
    "var e1 = function(limit){\n",
    "    var f = (n) => ( n % 3 == 0 || n % 5 == 0) \n",
    "    return Array(limit - 1).fill().map((val, idx) => idx + 1 ).filter(f).reduce((a,b) => a+b, 0 );\n",
    "}\n",
    "\n",
    "\n",
    "e1(1000);"
   ]
  },
  {
   "cell_type": "code",
   "execution_count": null,
   "id": "73923818",
   "metadata": {},
   "outputs": [],
   "source": []
  }
 ],
 "metadata": {
  "kernelspec": {
   "display_name": "Deno",
   "language": "typescript",
   "name": "deno"
  },
  "language_info": {
   "file_extension": ".ts",
   "mimetype": "text/x.typescript",
   "name": "typescript",
   "nb_converter": "script",
   "pygments_lexer": "typescript",
   "version": "5.3.3"
  }
 },
 "nbformat": 4,
 "nbformat_minor": 5
}
